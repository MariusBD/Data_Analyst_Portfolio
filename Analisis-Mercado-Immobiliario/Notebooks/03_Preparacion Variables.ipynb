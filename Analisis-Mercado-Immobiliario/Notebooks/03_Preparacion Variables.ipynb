{
 "cells": [
  {
   "cell_type": "code",
   "execution_count": 2,
   "id": "9883ed2f",
   "metadata": {},
   "outputs": [],
   "source": [
    "import numpy as np\n",
    "import pandas as pd\n",
    "import matplotlib.pyplot as plt\n",
    "%matplotlib inline\n",
    "import seaborn as sns\n",
    "import sqlalchemy as sa\n",
    "\n",
    "%config IPCompleter.greedy =True"
   ]
  },
  {
   "cell_type": "code",
   "execution_count": 5,
   "id": "7ca9178e",
   "metadata": {},
   "outputs": [],
   "source": [
    "con = sa.create_engine('sqlite:///../DATOS/airbnb2.db')"
   ]
  },
  {
   "cell_type": "code",
   "execution_count": 9,
   "id": "53bbab0f",
   "metadata": {},
   "outputs": [
    {
     "data": {
      "text/html": [
       "<div>\n",
       "<style scoped>\n",
       "    .dataframe tbody tr th:only-of-type {\n",
       "        vertical-align: middle;\n",
       "    }\n",
       "\n",
       "    .dataframe tbody tr th {\n",
       "        vertical-align: top;\n",
       "    }\n",
       "\n",
       "    .dataframe thead th {\n",
       "        text-align: right;\n",
       "    }\n",
       "</style>\n",
       "<table border=\"1\" class=\"dataframe\">\n",
       "  <thead>\n",
       "    <tr style=\"text-align: right;\">\n",
       "      <th></th>\n",
       "      <th>index</th>\n",
       "      <th>id</th>\n",
       "      <th>name</th>\n",
       "      <th>host_name</th>\n",
       "      <th>neighbourhood_group</th>\n",
       "      <th>neighbourhood</th>\n",
       "      <th>latitude</th>\n",
       "      <th>longitude</th>\n",
       "      <th>room_type</th>\n",
       "      <th>price</th>\n",
       "      <th>...</th>\n",
       "      <th>host_is_superhost</th>\n",
       "      <th>accommodates</th>\n",
       "      <th>bedrooms</th>\n",
       "      <th>beds</th>\n",
       "      <th>number_of_reviews</th>\n",
       "      <th>review_scores_rating</th>\n",
       "      <th>review_scores_communication</th>\n",
       "      <th>review_scores_location</th>\n",
       "      <th>precio_m2</th>\n",
       "      <th>distrito</th>\n",
       "    </tr>\n",
       "  </thead>\n",
       "  <tbody>\n",
       "    <tr>\n",
       "      <th>0</th>\n",
       "      <td>0</td>\n",
       "      <td>6369</td>\n",
       "      <td>Rooftop terrace room ,  ensuite bathroom</td>\n",
       "      <td>Simon</td>\n",
       "      <td>Chamartín</td>\n",
       "      <td>Hispanoamérica</td>\n",
       "      <td>40.45724</td>\n",
       "      <td>-3.67688</td>\n",
       "      <td>Private room</td>\n",
       "      <td>60</td>\n",
       "      <td>...</td>\n",
       "      <td>t</td>\n",
       "      <td>2</td>\n",
       "      <td>1.0</td>\n",
       "      <td>1.0</td>\n",
       "      <td>80</td>\n",
       "      <td>4.87</td>\n",
       "      <td>4.89</td>\n",
       "      <td>4.77</td>\n",
       "      <td>5534</td>\n",
       "      <td>Chamartín</td>\n",
       "    </tr>\n",
       "    <tr>\n",
       "      <th>1</th>\n",
       "      <td>1</td>\n",
       "      <td>21853</td>\n",
       "      <td>Bright and airy room</td>\n",
       "      <td>Abdel</td>\n",
       "      <td>Latina</td>\n",
       "      <td>Cármenes</td>\n",
       "      <td>40.40381</td>\n",
       "      <td>-3.74130</td>\n",
       "      <td>Private room</td>\n",
       "      <td>31</td>\n",
       "      <td>...</td>\n",
       "      <td>f</td>\n",
       "      <td>1</td>\n",
       "      <td>1.0</td>\n",
       "      <td>1.0</td>\n",
       "      <td>33</td>\n",
       "      <td>4.58</td>\n",
       "      <td>4.82</td>\n",
       "      <td>4.21</td>\n",
       "      <td>2404</td>\n",
       "      <td>Latina</td>\n",
       "    </tr>\n",
       "    <tr>\n",
       "      <th>2</th>\n",
       "      <td>2</td>\n",
       "      <td>23001</td>\n",
       "      <td>Apartmento Arganzuela- Madrid Rio</td>\n",
       "      <td>Jesus</td>\n",
       "      <td>Arganzuela</td>\n",
       "      <td>Legazpi</td>\n",
       "      <td>40.38840</td>\n",
       "      <td>-3.69511</td>\n",
       "      <td>Entire home/apt</td>\n",
       "      <td>50</td>\n",
       "      <td>...</td>\n",
       "      <td>f</td>\n",
       "      <td>6</td>\n",
       "      <td>3.0</td>\n",
       "      <td>5.0</td>\n",
       "      <td>0</td>\n",
       "      <td>NaN</td>\n",
       "      <td>NaN</td>\n",
       "      <td>NaN</td>\n",
       "      <td>4282</td>\n",
       "      <td>Arganzuela</td>\n",
       "    </tr>\n",
       "    <tr>\n",
       "      <th>3</th>\n",
       "      <td>3</td>\n",
       "      <td>24805</td>\n",
       "      <td>Gran Via Studio Madrid</td>\n",
       "      <td>A</td>\n",
       "      <td>Centro</td>\n",
       "      <td>Universidad</td>\n",
       "      <td>40.42183</td>\n",
       "      <td>-3.70529</td>\n",
       "      <td>Entire home/apt</td>\n",
       "      <td>92</td>\n",
       "      <td>...</td>\n",
       "      <td>f</td>\n",
       "      <td>3</td>\n",
       "      <td>1.0</td>\n",
       "      <td>1.0</td>\n",
       "      <td>12</td>\n",
       "      <td>4.92</td>\n",
       "      <td>5.00</td>\n",
       "      <td>5.00</td>\n",
       "      <td>5171</td>\n",
       "      <td>Centro</td>\n",
       "    </tr>\n",
       "    <tr>\n",
       "      <th>4</th>\n",
       "      <td>4</td>\n",
       "      <td>26825</td>\n",
       "      <td>Single Room whith private Bathroom</td>\n",
       "      <td>Agustina</td>\n",
       "      <td>Arganzuela</td>\n",
       "      <td>Legazpi</td>\n",
       "      <td>40.38975</td>\n",
       "      <td>-3.69018</td>\n",
       "      <td>Private room</td>\n",
       "      <td>26</td>\n",
       "      <td>...</td>\n",
       "      <td>f</td>\n",
       "      <td>1</td>\n",
       "      <td>1.0</td>\n",
       "      <td>1.0</td>\n",
       "      <td>149</td>\n",
       "      <td>4.68</td>\n",
       "      <td>4.71</td>\n",
       "      <td>4.70</td>\n",
       "      <td>4282</td>\n",
       "      <td>Arganzuela</td>\n",
       "    </tr>\n",
       "  </tbody>\n",
       "</table>\n",
       "<p>5 rows × 24 columns</p>\n",
       "</div>"
      ],
      "text/plain": [
       "   index     id                                      name host_name  \\\n",
       "0      0   6369  Rooftop terrace room ,  ensuite bathroom     Simon   \n",
       "1      1  21853                      Bright and airy room     Abdel   \n",
       "2      2  23001         Apartmento Arganzuela- Madrid Rio     Jesus   \n",
       "3      3  24805                    Gran Via Studio Madrid         A   \n",
       "4      4  26825        Single Room whith private Bathroom  Agustina   \n",
       "\n",
       "  neighbourhood_group   neighbourhood  latitude  longitude        room_type  \\\n",
       "0           Chamartín  Hispanoamérica  40.45724   -3.67688     Private room   \n",
       "1              Latina        Cármenes  40.40381   -3.74130     Private room   \n",
       "2          Arganzuela         Legazpi  40.38840   -3.69511  Entire home/apt   \n",
       "3              Centro     Universidad  40.42183   -3.70529  Entire home/apt   \n",
       "4          Arganzuela         Legazpi  40.38975   -3.69018     Private room   \n",
       "\n",
       "   price  ...  host_is_superhost  accommodates  bedrooms beds  \\\n",
       "0     60  ...                  t             2       1.0  1.0   \n",
       "1     31  ...                  f             1       1.0  1.0   \n",
       "2     50  ...                  f             6       3.0  5.0   \n",
       "3     92  ...                  f             3       1.0  1.0   \n",
       "4     26  ...                  f             1       1.0  1.0   \n",
       "\n",
       "  number_of_reviews  review_scores_rating  review_scores_communication  \\\n",
       "0                80                  4.87                         4.89   \n",
       "1                33                  4.58                         4.82   \n",
       "2                 0                   NaN                          NaN   \n",
       "3                12                  4.92                         5.00   \n",
       "4               149                  4.68                         4.71   \n",
       "\n",
       "   review_scores_location  precio_m2    distrito  \n",
       "0                    4.77       5534   Chamartín  \n",
       "1                    4.21       2404      Latina  \n",
       "2                     NaN       4282  Arganzuela  \n",
       "3                    5.00       5171      Centro  \n",
       "4                    4.70       4282  Arganzuela  \n",
       "\n",
       "[5 rows x 24 columns]"
      ]
     },
     "execution_count": 9,
     "metadata": {},
     "output_type": "execute_result"
    }
   ],
   "source": [
    "df = pd.read_sql('df',con=con)\n",
    "df.head()"
   ]
  },
  {
   "cell_type": "code",
   "execution_count": null,
   "id": "9ed1ddcd",
   "metadata": {},
   "outputs": [],
   "source": [
    "#Variables de analisis mas importantes,vamos a trabajar con los KPIS con los cuales vamos a operar esas palancas\n",
    "#precio sobre el tipo de habitacion, dependiendo del tipo el precio es diferente\n",
    "#tenemos que calcular el precio_total de alquiler total, nº habitaciones  * precio"
   ]
  },
  {
   "cell_type": "code",
   "execution_count": 10,
   "id": "20f373ef",
   "metadata": {},
   "outputs": [
    {
     "data": {
      "text/plain": [
       "Centro                   8127\n",
       "Salamanca                1218\n",
       "Chamberí                 1089\n",
       "Arganzuela               1005\n",
       "Tetuán                    762\n",
       "Retiro                    618\n",
       "Carabanchel               581\n",
       "Chamartín                 538\n",
       "Ciudad Lineal             532\n",
       "Moncloa - Aravaca         493\n",
       "Puente de Vallecas        465\n",
       "San Blas - Canillejas     463\n",
       "Latina                    455\n",
       "Hortaleza                 354\n",
       "Fuencarral - El Pardo     265\n",
       "Usera                     233\n",
       "Barajas                   142\n",
       "Villaverde                129\n",
       "Moratalaz                  94\n",
       "Villa de Vallecas          90\n",
       "Vicálvaro                  57\n",
       "Name: distrito, dtype: int64"
      ]
     },
     "execution_count": 10,
     "metadata": {},
     "output_type": "execute_result"
    }
   ],
   "source": [
    "#Como saber si el precio que viene es un precio por habitacion o precio total?\n",
    "#agrupando por el tipo de alquiler y el precio medio (tambien interviene el distrito)\n",
    "#1 conteo de immuebles por distrito\n",
    "df.distrito.value_counts()\n"
   ]
  },
  {
   "cell_type": "code",
   "execution_count": 12,
   "id": "baeac96c",
   "metadata": {},
   "outputs": [
    {
     "data": {
      "text/plain": [
       "room_type\n",
       "Entire home/apt    148.859980\n",
       "Private room        67.131643\n",
       "Shared room         60.464286\n",
       "Name: price, dtype: float64"
      ]
     },
     "execution_count": 12,
     "metadata": {},
     "output_type": "execute_result"
    }
   ],
   "source": [
    "#mayor tamaño muestral es en el distrito\n",
    "#2\n",
    "df.loc[df.distrito == 'Centro',:].groupby('room_type').price.mean()\n",
    "#hay diferencia entre alquilar todo el home y 1 habitacion privada"
   ]
  },
  {
   "cell_type": "code",
   "execution_count": 21,
   "id": "15ee3104",
   "metadata": {},
   "outputs": [],
   "source": [
    "#los apartamentos que tienen varias habitaciones que % de ellas esta alquilando todo el tiempo?\n",
    "#queremos homogeneizar independientemente de cual sea el tipo de alquiler, tener 1 precio para cada registro, que nos diga\n",
    "#el potencial de ingresos que nos puede dar ese immueble cuando lo tenemos alquilado\n",
    "def crear_precio_total(registro):\n",
    "    #calcula la formula solo si pasa esto\n",
    "    if (registro.beds > 1 ) & ((registro.room_type == 'Private room') | (registro.room_type == 'Shared room')):\n",
    "        salida = (registro.price * registro.beds) * 0.7\n",
    "    else:\n",
    "        salida = registro.price\n",
    "        \n",
    "    return (salida)\n",
    "        \n",
    "df['precio_total'] = df.apply(crear_precio_total, axis = 1)    "
   ]
  },
  {
   "cell_type": "code",
   "execution_count": 22,
   "id": "91a13890",
   "metadata": {},
   "outputs": [
    {
     "data": {
      "text/html": [
       "<div>\n",
       "<style scoped>\n",
       "    .dataframe tbody tr th:only-of-type {\n",
       "        vertical-align: middle;\n",
       "    }\n",
       "\n",
       "    .dataframe tbody tr th {\n",
       "        vertical-align: top;\n",
       "    }\n",
       "\n",
       "    .dataframe thead th {\n",
       "        text-align: right;\n",
       "    }\n",
       "</style>\n",
       "<table border=\"1\" class=\"dataframe\">\n",
       "  <thead>\n",
       "    <tr style=\"text-align: right;\">\n",
       "      <th></th>\n",
       "      <th>room_type</th>\n",
       "      <th>price</th>\n",
       "      <th>beds</th>\n",
       "      <th>precio_total</th>\n",
       "    </tr>\n",
       "  </thead>\n",
       "  <tbody>\n",
       "    <tr>\n",
       "      <th>0</th>\n",
       "      <td>Private room</td>\n",
       "      <td>60</td>\n",
       "      <td>1.0</td>\n",
       "      <td>60.0</td>\n",
       "    </tr>\n",
       "    <tr>\n",
       "      <th>1</th>\n",
       "      <td>Private room</td>\n",
       "      <td>31</td>\n",
       "      <td>1.0</td>\n",
       "      <td>31.0</td>\n",
       "    </tr>\n",
       "    <tr>\n",
       "      <th>2</th>\n",
       "      <td>Entire home/apt</td>\n",
       "      <td>50</td>\n",
       "      <td>5.0</td>\n",
       "      <td>50.0</td>\n",
       "    </tr>\n",
       "    <tr>\n",
       "      <th>3</th>\n",
       "      <td>Entire home/apt</td>\n",
       "      <td>92</td>\n",
       "      <td>1.0</td>\n",
       "      <td>92.0</td>\n",
       "    </tr>\n",
       "    <tr>\n",
       "      <th>4</th>\n",
       "      <td>Private room</td>\n",
       "      <td>26</td>\n",
       "      <td>1.0</td>\n",
       "      <td>26.0</td>\n",
       "    </tr>\n",
       "    <tr>\n",
       "      <th>5</th>\n",
       "      <td>Entire home/apt</td>\n",
       "      <td>85</td>\n",
       "      <td>3.0</td>\n",
       "      <td>85.0</td>\n",
       "    </tr>\n",
       "    <tr>\n",
       "      <th>6</th>\n",
       "      <td>Entire home/apt</td>\n",
       "      <td>65</td>\n",
       "      <td>2.0</td>\n",
       "      <td>65.0</td>\n",
       "    </tr>\n",
       "    <tr>\n",
       "      <th>7</th>\n",
       "      <td>Entire home/apt</td>\n",
       "      <td>54</td>\n",
       "      <td>1.0</td>\n",
       "      <td>54.0</td>\n",
       "    </tr>\n",
       "    <tr>\n",
       "      <th>8</th>\n",
       "      <td>Entire home/apt</td>\n",
       "      <td>1400</td>\n",
       "      <td>3.0</td>\n",
       "      <td>1400.0</td>\n",
       "    </tr>\n",
       "    <tr>\n",
       "      <th>9</th>\n",
       "      <td>Entire home/apt</td>\n",
       "      <td>81</td>\n",
       "      <td>2.0</td>\n",
       "      <td>81.0</td>\n",
       "    </tr>\n",
       "    <tr>\n",
       "      <th>10</th>\n",
       "      <td>Entire home/apt</td>\n",
       "      <td>90</td>\n",
       "      <td>3.0</td>\n",
       "      <td>90.0</td>\n",
       "    </tr>\n",
       "    <tr>\n",
       "      <th>11</th>\n",
       "      <td>Entire home/apt</td>\n",
       "      <td>82</td>\n",
       "      <td>2.0</td>\n",
       "      <td>82.0</td>\n",
       "    </tr>\n",
       "    <tr>\n",
       "      <th>12</th>\n",
       "      <td>Private room</td>\n",
       "      <td>40</td>\n",
       "      <td>1.0</td>\n",
       "      <td>40.0</td>\n",
       "    </tr>\n",
       "    <tr>\n",
       "      <th>13</th>\n",
       "      <td>Private room</td>\n",
       "      <td>36</td>\n",
       "      <td>2.0</td>\n",
       "      <td>50.4</td>\n",
       "    </tr>\n",
       "    <tr>\n",
       "      <th>14</th>\n",
       "      <td>Entire home/apt</td>\n",
       "      <td>51</td>\n",
       "      <td>1.0</td>\n",
       "      <td>51.0</td>\n",
       "    </tr>\n",
       "    <tr>\n",
       "      <th>15</th>\n",
       "      <td>Entire home/apt</td>\n",
       "      <td>76</td>\n",
       "      <td>2.0</td>\n",
       "      <td>76.0</td>\n",
       "    </tr>\n",
       "    <tr>\n",
       "      <th>16</th>\n",
       "      <td>Entire home/apt</td>\n",
       "      <td>54</td>\n",
       "      <td>3.0</td>\n",
       "      <td>54.0</td>\n",
       "    </tr>\n",
       "    <tr>\n",
       "      <th>17</th>\n",
       "      <td>Entire home/apt</td>\n",
       "      <td>60</td>\n",
       "      <td>3.0</td>\n",
       "      <td>60.0</td>\n",
       "    </tr>\n",
       "    <tr>\n",
       "      <th>18</th>\n",
       "      <td>Entire home/apt</td>\n",
       "      <td>55</td>\n",
       "      <td>2.0</td>\n",
       "      <td>55.0</td>\n",
       "    </tr>\n",
       "    <tr>\n",
       "      <th>19</th>\n",
       "      <td>Entire home/apt</td>\n",
       "      <td>121</td>\n",
       "      <td>6.0</td>\n",
       "      <td>121.0</td>\n",
       "    </tr>\n",
       "    <tr>\n",
       "      <th>20</th>\n",
       "      <td>Entire home/apt</td>\n",
       "      <td>80</td>\n",
       "      <td>2.0</td>\n",
       "      <td>80.0</td>\n",
       "    </tr>\n",
       "    <tr>\n",
       "      <th>21</th>\n",
       "      <td>Entire home/apt</td>\n",
       "      <td>63</td>\n",
       "      <td>2.0</td>\n",
       "      <td>63.0</td>\n",
       "    </tr>\n",
       "    <tr>\n",
       "      <th>22</th>\n",
       "      <td>Entire home/apt</td>\n",
       "      <td>63</td>\n",
       "      <td>1.0</td>\n",
       "      <td>63.0</td>\n",
       "    </tr>\n",
       "    <tr>\n",
       "      <th>23</th>\n",
       "      <td>Entire home/apt</td>\n",
       "      <td>46</td>\n",
       "      <td>1.0</td>\n",
       "      <td>46.0</td>\n",
       "    </tr>\n",
       "    <tr>\n",
       "      <th>24</th>\n",
       "      <td>Entire home/apt</td>\n",
       "      <td>171</td>\n",
       "      <td>3.0</td>\n",
       "      <td>171.0</td>\n",
       "    </tr>\n",
       "    <tr>\n",
       "      <th>25</th>\n",
       "      <td>Private room</td>\n",
       "      <td>55</td>\n",
       "      <td>1.0</td>\n",
       "      <td>55.0</td>\n",
       "    </tr>\n",
       "    <tr>\n",
       "      <th>26</th>\n",
       "      <td>Private room</td>\n",
       "      <td>26</td>\n",
       "      <td>2.0</td>\n",
       "      <td>36.4</td>\n",
       "    </tr>\n",
       "    <tr>\n",
       "      <th>27</th>\n",
       "      <td>Private room</td>\n",
       "      <td>31</td>\n",
       "      <td>2.0</td>\n",
       "      <td>43.4</td>\n",
       "    </tr>\n",
       "    <tr>\n",
       "      <th>28</th>\n",
       "      <td>Entire home/apt</td>\n",
       "      <td>60</td>\n",
       "      <td>1.0</td>\n",
       "      <td>60.0</td>\n",
       "    </tr>\n",
       "    <tr>\n",
       "      <th>29</th>\n",
       "      <td>Entire home/apt</td>\n",
       "      <td>149</td>\n",
       "      <td>2.0</td>\n",
       "      <td>149.0</td>\n",
       "    </tr>\n",
       "  </tbody>\n",
       "</table>\n",
       "</div>"
      ],
      "text/plain": [
       "          room_type  price  beds  precio_total\n",
       "0      Private room     60   1.0          60.0\n",
       "1      Private room     31   1.0          31.0\n",
       "2   Entire home/apt     50   5.0          50.0\n",
       "3   Entire home/apt     92   1.0          92.0\n",
       "4      Private room     26   1.0          26.0\n",
       "5   Entire home/apt     85   3.0          85.0\n",
       "6   Entire home/apt     65   2.0          65.0\n",
       "7   Entire home/apt     54   1.0          54.0\n",
       "8   Entire home/apt   1400   3.0        1400.0\n",
       "9   Entire home/apt     81   2.0          81.0\n",
       "10  Entire home/apt     90   3.0          90.0\n",
       "11  Entire home/apt     82   2.0          82.0\n",
       "12     Private room     40   1.0          40.0\n",
       "13     Private room     36   2.0          50.4\n",
       "14  Entire home/apt     51   1.0          51.0\n",
       "15  Entire home/apt     76   2.0          76.0\n",
       "16  Entire home/apt     54   3.0          54.0\n",
       "17  Entire home/apt     60   3.0          60.0\n",
       "18  Entire home/apt     55   2.0          55.0\n",
       "19  Entire home/apt    121   6.0         121.0\n",
       "20  Entire home/apt     80   2.0          80.0\n",
       "21  Entire home/apt     63   2.0          63.0\n",
       "22  Entire home/apt     63   1.0          63.0\n",
       "23  Entire home/apt     46   1.0          46.0\n",
       "24  Entire home/apt    171   3.0         171.0\n",
       "25     Private room     55   1.0          55.0\n",
       "26     Private room     26   2.0          36.4\n",
       "27     Private room     31   2.0          43.4\n",
       "28  Entire home/apt     60   1.0          60.0\n",
       "29  Entire home/apt    149   2.0         149.0"
      ]
     },
     "execution_count": 22,
     "metadata": {},
     "output_type": "execute_result"
    }
   ],
   "source": [
    "#comprobacion con ejemplos \n",
    "#para 1hab el alquiler equivale al precio de 1 cama\n",
    "#para una private room si aplica la formula mirar registro 13\n",
    "#para todo el apartamento el precio total es el precio inicial\n",
    "df[['room_type','price','beds','precio_total']].head(30)\n",
    "#COn estos datos si podemos hacer la comparacion precios por barrios, tipo de alquiler habitaciones etc..\n",
    "#ahora esta en la misma unidad\n",
    "#habia registros que estaban en la unidad de precio * todo el immueble\n",
    "#y habia registros que estaban en la unidad de precio * habitacion"
   ]
  },
  {
   "cell_type": "code",
   "execution_count": 23,
   "id": "1def6727",
   "metadata": {},
   "outputs": [
    {
     "name": "stdout",
     "output_type": "stream",
     "text": [
      "<class 'pandas.core.frame.DataFrame'>\n",
      "RangeIndex: 17710 entries, 0 to 17709\n",
      "Data columns (total 25 columns):\n",
      " #   Column                          Non-Null Count  Dtype  \n",
      "---  ------                          --------------  -----  \n",
      " 0   index                           17710 non-null  int64  \n",
      " 1   id                              17710 non-null  int64  \n",
      " 2   name                            17707 non-null  object \n",
      " 3   host_name                       17685 non-null  object \n",
      " 4   neighbourhood_group             17710 non-null  object \n",
      " 5   neighbourhood                   17710 non-null  object \n",
      " 6   latitude                        17710 non-null  float64\n",
      " 7   longitude                       17710 non-null  float64\n",
      " 8   room_type                       17710 non-null  object \n",
      " 9   price                           17710 non-null  int64  \n",
      " 10  minimum_nights                  17710 non-null  int64  \n",
      " 11  calculated_host_listings_count  17710 non-null  int64  \n",
      " 12  availability_365                17710 non-null  int64  \n",
      " 13  description                     16766 non-null  object \n",
      " 14  host_is_superhost               17685 non-null  object \n",
      " 15  accommodates                    17710 non-null  int64  \n",
      " 16  bedrooms                        17710 non-null  float64\n",
      " 17  beds                            17710 non-null  float64\n",
      " 18  number_of_reviews               17710 non-null  int64  \n",
      " 19  review_scores_rating            13084 non-null  float64\n",
      " 20  review_scores_communication     12863 non-null  float64\n",
      " 21  review_scores_location          12860 non-null  float64\n",
      " 22  precio_m2                       17710 non-null  int64  \n",
      " 23  distrito                        17710 non-null  object \n",
      " 24  precio_total                    17710 non-null  float64\n",
      "dtypes: float64(8), int64(9), object(8)\n",
      "memory usage: 3.4+ MB\n"
     ]
    }
   ],
   "source": [
    "df.info()"
   ]
  },
  {
   "cell_type": "code",
   "execution_count": 24,
   "id": "e03feb03",
   "metadata": {},
   "outputs": [
    {
     "data": {
      "text/plain": [
       "0    180\n",
       "1    364\n",
       "2    222\n",
       "3    115\n",
       "4    349\n",
       "Name: availability_365, dtype: int64"
      ]
     },
     "execution_count": 24,
     "metadata": {},
     "output_type": "execute_result"
    }
   ],
   "source": [
    "#esto significa la disponibilidad de alquiler de ese immueble en 365 dias\n",
    "df.availability_365.head()"
   ]
  },
  {
   "cell_type": "code",
   "execution_count": 28,
   "id": "598ea0d4",
   "metadata": {},
   "outputs": [
    {
     "data": {
      "text/html": [
       "<div>\n",
       "<style scoped>\n",
       "    .dataframe tbody tr th:only-of-type {\n",
       "        vertical-align: middle;\n",
       "    }\n",
       "\n",
       "    .dataframe tbody tr th {\n",
       "        vertical-align: top;\n",
       "    }\n",
       "\n",
       "    .dataframe thead th {\n",
       "        text-align: right;\n",
       "    }\n",
       "</style>\n",
       "<table border=\"1\" class=\"dataframe\">\n",
       "  <thead>\n",
       "    <tr style=\"text-align: right;\">\n",
       "      <th></th>\n",
       "      <th>availability_365</th>\n",
       "      <th>ocupacion</th>\n",
       "    </tr>\n",
       "  </thead>\n",
       "  <tbody>\n",
       "    <tr>\n",
       "      <th>0</th>\n",
       "      <td>180</td>\n",
       "      <td>50</td>\n",
       "    </tr>\n",
       "    <tr>\n",
       "      <th>1</th>\n",
       "      <td>364</td>\n",
       "      <td>0</td>\n",
       "    </tr>\n",
       "    <tr>\n",
       "      <th>2</th>\n",
       "      <td>222</td>\n",
       "      <td>39</td>\n",
       "    </tr>\n",
       "    <tr>\n",
       "      <th>3</th>\n",
       "      <td>115</td>\n",
       "      <td>68</td>\n",
       "    </tr>\n",
       "    <tr>\n",
       "      <th>4</th>\n",
       "      <td>349</td>\n",
       "      <td>4</td>\n",
       "    </tr>\n",
       "    <tr>\n",
       "      <th>...</th>\n",
       "      <td>...</td>\n",
       "      <td>...</td>\n",
       "    </tr>\n",
       "    <tr>\n",
       "      <th>17705</th>\n",
       "      <td>358</td>\n",
       "      <td>1</td>\n",
       "    </tr>\n",
       "    <tr>\n",
       "      <th>17706</th>\n",
       "      <td>358</td>\n",
       "      <td>1</td>\n",
       "    </tr>\n",
       "    <tr>\n",
       "      <th>17707</th>\n",
       "      <td>358</td>\n",
       "      <td>1</td>\n",
       "    </tr>\n",
       "    <tr>\n",
       "      <th>17708</th>\n",
       "      <td>358</td>\n",
       "      <td>1</td>\n",
       "    </tr>\n",
       "    <tr>\n",
       "      <th>17709</th>\n",
       "      <td>358</td>\n",
       "      <td>1</td>\n",
       "    </tr>\n",
       "  </tbody>\n",
       "</table>\n",
       "<p>17710 rows × 2 columns</p>\n",
       "</div>"
      ],
      "text/plain": [
       "       availability_365  ocupacion\n",
       "0                   180         50\n",
       "1                   364          0\n",
       "2                   222         39\n",
       "3                   115         68\n",
       "4                   349          4\n",
       "...                 ...        ...\n",
       "17705               358          1\n",
       "17706               358          1\n",
       "17707               358          1\n",
       "17708               358          1\n",
       "17709               358          1\n",
       "\n",
       "[17710 rows x 2 columns]"
      ]
     },
     "execution_count": 28,
     "metadata": {},
     "output_type": "execute_result"
    }
   ],
   "source": [
    "#Calculando la ocupacion, el ratio de ocupacion\n",
    "df['ocupacion'] = (((365- df.availability_365 ) /365) *100).astype('int64')\n",
    "#contrastamos\n",
    "df[['availability_365','ocupacion']]"
   ]
  },
  {
   "cell_type": "code",
   "execution_count": 31,
   "id": "cc1995c3",
   "metadata": {},
   "outputs": [
    {
     "data": {
      "image/png": "[encoded data removed]",
      "text/plain": [
       "<Figure size 432x288 with 1 Axes>"
      ]
     },
     "metadata": {
      "needs_background": "light"
     },
     "output_type": "display_data"
    }
   ],
   "source": [
    "#Discretizacion de variables, para pasarlas de continuas a categoricas\n",
    "df.bedrooms.value_counts().plot.bar();\n",
    "#+12k 1hab\n",
    "#3.5k 2hab"
   ]
  },
  {
   "cell_type": "code",
   "execution_count": 32,
   "id": "c5d59896",
   "metadata": {},
   "outputs": [
    {
     "data": {
      "text/plain": [
       "01_Una             12422\n",
       "02_Dos              3617\n",
       "03_Tres             1228\n",
       "04_Cuatro_o_mas      443\n",
       "Name: bedrooms_disc, dtype: int64"
      ]
     },
     "execution_count": 32,
     "metadata": {},
     "output_type": "execute_result"
    }
   ],
   "source": [
    "condiciones = [df.bedrooms == 1,\n",
    "               df.bedrooms == 2,\n",
    "               df.bedrooms == 3,\n",
    "               df.bedrooms > 3]\n",
    "resultados = ['01_Una','02_Dos','03_Tres','04_Cuatro_o_mas']\n",
    "df['bedrooms_disc'] = np.select(condiciones, resultados, default = -999)\n",
    "df['bedrooms_disc'].value_counts()"
   ]
  },
  {
   "cell_type": "code",
   "execution_count": 34,
   "id": "8d481dcc",
   "metadata": {},
   "outputs": [
    {
     "data": {
      "image/png": "[encoded data removed]",
      "text/plain": [
       "<Figure size 432x288 with 1 Axes>"
      ]
     },
     "metadata": {
      "needs_background": "light"
     },
     "output_type": "display_data"
    }
   ],
   "source": [
    "df.accommodates.value_counts().plot.bar();"
   ]
  },
  {
   "cell_type": "code",
   "execution_count": 36,
   "id": "a672b9b7",
   "metadata": {},
   "outputs": [
    {
     "data": {
      "image/png": "[encoded data removed]",
      "text/plain": [
       "<Figure size 432x288 with 1 Axes>"
      ]
     },
     "metadata": {
      "needs_background": "light"
     },
     "output_type": "display_data"
    }
   ],
   "source": [
    "pd.qcut(df.accommodates,[0,0.5,0.8,1]).value_counts().plot.bar();"
   ]
  },
  {
   "cell_type": "code",
   "execution_count": 38,
   "id": "37dac028",
   "metadata": {},
   "outputs": [],
   "source": [
    "df['accommodates_disc'] = pd.qcut(df.accommodates,[0,0.5,0.8,1],\n",
    "       labels = ['0-2','3','4-16'])"
   ]
  },
  {
   "cell_type": "code",
   "execution_count": 39,
   "id": "73e66cc9",
   "metadata": {},
   "outputs": [
    {
     "data": {
      "text/plain": [
       "<AxesSubplot:>"
      ]
     },
     "execution_count": 39,
     "metadata": {},
     "output_type": "execute_result"
    },
    {
     "data": {
      "image/png": "[encoded data removed]",
      "text/plain": [
       "<Figure size 432x288 with 1 Axes>"
      ]
     },
     "metadata": {
      "needs_background": "light"
     },
     "output_type": "display_data"
    }
   ],
   "source": [
    "df['accommodates_disc'].value_counts().plot.bar();"
   ]
  },
  {
   "cell_type": "code",
   "execution_count": 40,
   "id": "35c77bea",
   "metadata": {},
   "outputs": [
    {
     "data": {
      "text/plain": [
       "<AxesSubplot:>"
      ]
     },
     "execution_count": 40,
     "metadata": {},
     "output_type": "execute_result"
    },
    {
     "data": {
      "image/png": "[encoded data removed]",
      "text/plain": [
       "<Figure size 432x288 with 1 Axes>"
      ]
     },
     "metadata": {
      "needs_background": "light"
     },
     "output_type": "display_data"
    }
   ],
   "source": [
    "pd.qcut(df.beds,[0,0.5,0.8,1]).value_counts().plot.bar()"
   ]
  },
  {
   "cell_type": "code",
   "execution_count": 43,
   "id": "2dc38da9",
   "metadata": {},
   "outputs": [],
   "source": [
    "df['beds_disc'] = pd.qcut(df.beds,[0,0.5,0.8,1],\n",
    "       labels = ['1','2','3-23'])"
   ]
  },
  {
   "cell_type": "code",
   "execution_count": 44,
   "id": "198ed3e1",
   "metadata": {},
   "outputs": [
    {
     "data": {
      "image/png": "[encoded data removed]",
      "text/plain": [
       "<Figure size 432x288 with 1 Axes>"
      ]
     },
     "metadata": {
      "needs_background": "light"
     },
     "output_type": "display_data"
    }
   ],
   "source": [
    "df['beds_disc'].value_counts().plot.bar();"
   ]
  },
  {
   "cell_type": "code",
   "execution_count": 45,
   "id": "e7f40bb1",
   "metadata": {},
   "outputs": [
    {
     "data": {
      "image/png": "[encoded data removed]",
      "text/plain": [
       "<Figure size 432x288 with 1 Axes>"
      ]
     },
     "metadata": {
      "needs_background": "light"
     },
     "output_type": "display_data"
    }
   ],
   "source": [
    "pd.qcut(df.number_of_reviews,[0,0.5,0.8,1]).value_counts().plot.bar();"
   ]
  },
  {
   "cell_type": "code",
   "execution_count": 46,
   "id": "7be98473",
   "metadata": {},
   "outputs": [],
   "source": [
    "df['number_of_reviews_disc'] = pd.qcut(df.number_of_reviews,[0,0.5,0.8,1],\n",
    "                                      labels = ['0-4','5-48','49-743'])"
   ]
  },
  {
   "cell_type": "code",
   "execution_count": 48,
   "id": "477efbe1",
   "metadata": {},
   "outputs": [
    {
     "data": {
      "image/png": "[encoded data removed]",
      "text/plain": [
       "<Figure size 432x288 with 1 Axes>"
      ]
     },
     "metadata": {
      "needs_background": "light"
     },
     "output_type": "display_data"
    }
   ],
   "source": [
    "df['number_of_reviews_disc'].value_counts().plot.bar();"
   ]
  },
  {
   "cell_type": "code",
   "execution_count": 50,
   "id": "bf0070ec",
   "metadata": {},
   "outputs": [],
   "source": [
    "#Estimando el precio de la compra, primer hay que estimar el tamaño del piso a partir del nº de habitaciones \n",
    "#1hab 50m2, 2hab 70m2, 3hab 90m2, 4hab 120m2, 5+hab 150m2 (datos random)\n",
    "condiciones = [df.bedrooms == 1,\n",
    "            df.bedrooms == 2,\n",
    "            df.bedrooms == 3,\n",
    "            df.bedrooms == 4,\n",
    "            df.bedrooms >4]\n",
    "resultados =[50,70,90,120,150]\n",
    "df['m2_immueble'] = np.select(condiciones,resultados,default = -999)"
   ]
  },
  {
   "cell_type": "code",
   "execution_count": 51,
   "id": "5aba64f9",
   "metadata": {},
   "outputs": [
    {
     "data": {
      "text/plain": [
       "50     12422\n",
       "70      3617\n",
       "90      1228\n",
       "120      296\n",
       "150      147\n",
       "Name: m2_immueble, dtype: int64"
      ]
     },
     "execution_count": 51,
     "metadata": {},
     "output_type": "execute_result"
    }
   ],
   "source": [
    "df['m2_immueble'].value_counts()"
   ]
  },
  {
   "cell_type": "code",
   "execution_count": 52,
   "id": "13a80634",
   "metadata": {},
   "outputs": [],
   "source": [
    "df['precio_compra'] = df['m2_immueble'] * df['precio_m2'] *0.7"
   ]
  },
  {
   "cell_type": "code",
   "execution_count": 54,
   "id": "78519ba1",
   "metadata": {},
   "outputs": [
    {
     "data": {
      "text/html": [
       "<div>\n",
       "<style scoped>\n",
       "    .dataframe tbody tr th:only-of-type {\n",
       "        vertical-align: middle;\n",
       "    }\n",
       "\n",
       "    .dataframe tbody tr th {\n",
       "        vertical-align: top;\n",
       "    }\n",
       "\n",
       "    .dataframe thead th {\n",
       "        text-align: right;\n",
       "    }\n",
       "</style>\n",
       "<table border=\"1\" class=\"dataframe\">\n",
       "  <thead>\n",
       "    <tr style=\"text-align: right;\">\n",
       "      <th></th>\n",
       "      <th>bedrooms</th>\n",
       "      <th>m2_immueble</th>\n",
       "      <th>distrito</th>\n",
       "      <th>precio_m2</th>\n",
       "      <th>precio_compra</th>\n",
       "    </tr>\n",
       "  </thead>\n",
       "  <tbody>\n",
       "    <tr>\n",
       "      <th>0</th>\n",
       "      <td>1.0</td>\n",
       "      <td>50</td>\n",
       "      <td>Chamartín</td>\n",
       "      <td>5534</td>\n",
       "      <td>193690.0</td>\n",
       "    </tr>\n",
       "    <tr>\n",
       "      <th>1</th>\n",
       "      <td>1.0</td>\n",
       "      <td>50</td>\n",
       "      <td>Latina</td>\n",
       "      <td>2404</td>\n",
       "      <td>84140.0</td>\n",
       "    </tr>\n",
       "    <tr>\n",
       "      <th>2</th>\n",
       "      <td>3.0</td>\n",
       "      <td>90</td>\n",
       "      <td>Arganzuela</td>\n",
       "      <td>4282</td>\n",
       "      <td>269766.0</td>\n",
       "    </tr>\n",
       "    <tr>\n",
       "      <th>3</th>\n",
       "      <td>1.0</td>\n",
       "      <td>50</td>\n",
       "      <td>Centro</td>\n",
       "      <td>5171</td>\n",
       "      <td>180985.0</td>\n",
       "    </tr>\n",
       "    <tr>\n",
       "      <th>4</th>\n",
       "      <td>1.0</td>\n",
       "      <td>50</td>\n",
       "      <td>Arganzuela</td>\n",
       "      <td>4282</td>\n",
       "      <td>149870.0</td>\n",
       "    </tr>\n",
       "    <tr>\n",
       "      <th>5</th>\n",
       "      <td>3.0</td>\n",
       "      <td>90</td>\n",
       "      <td>Arganzuela</td>\n",
       "      <td>4282</td>\n",
       "      <td>269766.0</td>\n",
       "    </tr>\n",
       "    <tr>\n",
       "      <th>6</th>\n",
       "      <td>1.0</td>\n",
       "      <td>50</td>\n",
       "      <td>Centro</td>\n",
       "      <td>5171</td>\n",
       "      <td>180985.0</td>\n",
       "    </tr>\n",
       "    <tr>\n",
       "      <th>7</th>\n",
       "      <td>1.0</td>\n",
       "      <td>50</td>\n",
       "      <td>Centro</td>\n",
       "      <td>5171</td>\n",
       "      <td>180985.0</td>\n",
       "    </tr>\n",
       "    <tr>\n",
       "      <th>8</th>\n",
       "      <td>2.0</td>\n",
       "      <td>70</td>\n",
       "      <td>Centro</td>\n",
       "      <td>5171</td>\n",
       "      <td>253379.0</td>\n",
       "    </tr>\n",
       "    <tr>\n",
       "      <th>9</th>\n",
       "      <td>1.0</td>\n",
       "      <td>50</td>\n",
       "      <td>Centro</td>\n",
       "      <td>5171</td>\n",
       "      <td>180985.0</td>\n",
       "    </tr>\n",
       "    <tr>\n",
       "      <th>10</th>\n",
       "      <td>1.0</td>\n",
       "      <td>50</td>\n",
       "      <td>Centro</td>\n",
       "      <td>5171</td>\n",
       "      <td>180985.0</td>\n",
       "    </tr>\n",
       "    <tr>\n",
       "      <th>11</th>\n",
       "      <td>2.0</td>\n",
       "      <td>70</td>\n",
       "      <td>Salamanca</td>\n",
       "      <td>6658</td>\n",
       "      <td>326242.0</td>\n",
       "    </tr>\n",
       "    <tr>\n",
       "      <th>12</th>\n",
       "      <td>1.0</td>\n",
       "      <td>50</td>\n",
       "      <td>Centro</td>\n",
       "      <td>5171</td>\n",
       "      <td>180985.0</td>\n",
       "    </tr>\n",
       "    <tr>\n",
       "      <th>13</th>\n",
       "      <td>1.0</td>\n",
       "      <td>50</td>\n",
       "      <td>Centro</td>\n",
       "      <td>5171</td>\n",
       "      <td>180985.0</td>\n",
       "    </tr>\n",
       "    <tr>\n",
       "      <th>14</th>\n",
       "      <td>1.0</td>\n",
       "      <td>50</td>\n",
       "      <td>Centro</td>\n",
       "      <td>5171</td>\n",
       "      <td>180985.0</td>\n",
       "    </tr>\n",
       "    <tr>\n",
       "      <th>15</th>\n",
       "      <td>1.0</td>\n",
       "      <td>50</td>\n",
       "      <td>Centro</td>\n",
       "      <td>5171</td>\n",
       "      <td>180985.0</td>\n",
       "    </tr>\n",
       "    <tr>\n",
       "      <th>16</th>\n",
       "      <td>1.0</td>\n",
       "      <td>50</td>\n",
       "      <td>Centro</td>\n",
       "      <td>5171</td>\n",
       "      <td>180985.0</td>\n",
       "    </tr>\n",
       "    <tr>\n",
       "      <th>17</th>\n",
       "      <td>2.0</td>\n",
       "      <td>70</td>\n",
       "      <td>Centro</td>\n",
       "      <td>5171</td>\n",
       "      <td>253379.0</td>\n",
       "    </tr>\n",
       "    <tr>\n",
       "      <th>18</th>\n",
       "      <td>2.0</td>\n",
       "      <td>70</td>\n",
       "      <td>Centro</td>\n",
       "      <td>5171</td>\n",
       "      <td>253379.0</td>\n",
       "    </tr>\n",
       "    <tr>\n",
       "      <th>19</th>\n",
       "      <td>3.0</td>\n",
       "      <td>90</td>\n",
       "      <td>Centro</td>\n",
       "      <td>5171</td>\n",
       "      <td>325773.0</td>\n",
       "    </tr>\n",
       "  </tbody>\n",
       "</table>\n",
       "</div>"
      ],
      "text/plain": [
       "    bedrooms  m2_immueble    distrito  precio_m2  precio_compra\n",
       "0        1.0           50   Chamartín       5534       193690.0\n",
       "1        1.0           50      Latina       2404        84140.0\n",
       "2        3.0           90  Arganzuela       4282       269766.0\n",
       "3        1.0           50      Centro       5171       180985.0\n",
       "4        1.0           50  Arganzuela       4282       149870.0\n",
       "5        3.0           90  Arganzuela       4282       269766.0\n",
       "6        1.0           50      Centro       5171       180985.0\n",
       "7        1.0           50      Centro       5171       180985.0\n",
       "8        2.0           70      Centro       5171       253379.0\n",
       "9        1.0           50      Centro       5171       180985.0\n",
       "10       1.0           50      Centro       5171       180985.0\n",
       "11       2.0           70   Salamanca       6658       326242.0\n",
       "12       1.0           50      Centro       5171       180985.0\n",
       "13       1.0           50      Centro       5171       180985.0\n",
       "14       1.0           50      Centro       5171       180985.0\n",
       "15       1.0           50      Centro       5171       180985.0\n",
       "16       1.0           50      Centro       5171       180985.0\n",
       "17       2.0           70      Centro       5171       253379.0\n",
       "18       2.0           70      Centro       5171       253379.0\n",
       "19       3.0           90      Centro       5171       325773.0"
      ]
     },
     "execution_count": 54,
     "metadata": {},
     "output_type": "execute_result"
    }
   ],
   "source": [
    "df[['bedrooms','m2_immueble','distrito','precio_m2','precio_compra']].head(20)"
   ]
  },
  {
   "cell_type": "code",
   "execution_count": 56,
   "id": "97cc5c35",
   "metadata": {},
   "outputs": [],
   "source": [
    "#-pdi Puerta del Sol\n",
    "lat1 = 40.4167278 \n",
    "lon1 = -3.7033387 \n",
    "from math import radians, cos, sin, asin, sqrt\n",
    "def haversine(lat1, lon1, lat2, lon2):\n",
    "\n",
    "      R = 6372.8 #En km, si usas millas tienes que cambiarlo por 3959.87433\n",
    "\n",
    "      dLat = radians(lat2 - lat1)\n",
    "      dLon = radians(lon2 - lon1)\n",
    "      lat1 = radians(lat1)\n",
    "      lat2 = radians(lat2)\n",
    "\n",
    "      a = sin(dLat/2)**2 + cos(lat1)*cos(lat2)*sin(dLon/2)**2\n",
    "      c = 2*asin(sqrt(a))\n",
    "\n",
    "      return R * c\n",
    "\n",
    "df['pdi_Sol'] = df.apply(lambda registro:haversine(lat1,lon1,registro.latitude,registro.longitude), axis = 1)"
   ]
  },
  {
   "cell_type": "code",
   "execution_count": 59,
   "id": "db4f6d4b",
   "metadata": {},
   "outputs": [
    {
     "data": {
      "text/plain": [
       "distrito\n",
       "Centro                    0.730611\n",
       "Arganzuela                1.939114\n",
       "Chamberí                  2.133167\n",
       "Retiro                    2.450593\n",
       "Salamanca                 2.715975\n",
       "Moncloa - Aravaca         3.294526\n",
       "Usera                     3.928874\n",
       "Latina                    3.942634\n",
       "Carabanchel               3.970238\n",
       "Chamartín                 4.432842\n",
       "Puente de Vallecas        4.481127\n",
       "Tetuán                    4.624605\n",
       "Moratalaz                 5.073901\n",
       "Ciudad Lineal             5.231293\n",
       "Villaverde                7.664192\n",
       "Fuencarral - El Pardo     8.062301\n",
       "Hortaleza                 8.074184\n",
       "San Blas - Canillejas     8.199011\n",
       "Vicálvaro                 8.599559\n",
       "Villa de Vallecas         9.176618\n",
       "Barajas                  11.439064\n",
       "Name: pdi_Sol, dtype: float64"
      ]
     },
     "execution_count": 59,
     "metadata": {},
     "output_type": "execute_result"
    }
   ],
   "source": [
    "df.groupby('distrito').pdi_Sol.mean().sort_values()"
   ]
  },
  {
   "cell_type": "code",
   "execution_count": 60,
   "id": "693a768d",
   "metadata": {},
   "outputs": [
    {
     "data": {
      "text/plain": [
       "17710"
      ]
     },
     "execution_count": 60,
     "metadata": {},
     "output_type": "execute_result"
    }
   ],
   "source": [
    "df.to_sql('df_preparado',con =con , if_exists = 'replace')"
   ]
  }
 ],
 "metadata": {
  "kernelspec": {
   "display_name": "Python 3 (ipykernel)",
   "language": "python",
   "name": "python3"
  },
  "language_info": {
   "codemirror_mode": {
    "name": "ipython",
    "version": 3
   },
   "file_extension": ".py",
   "mimetype": "text/x-python",
   "name": "python",
   "nbconvert_exporter": "python",
   "pygments_lexer": "ipython3",
   "version": "3.9.7"
  },
  "toc": {
   "base_numbering": 1,
   "nav_menu": {},
   "number_sections": true,
   "sideBar": true,
   "skip_h1_title": false,
   "title_cell": "Table of Contents",
   "title_sidebar": "Contents",
   "toc_cell": false,
   "toc_position": {},
   "toc_section_display": true,
   "toc_window_display": false
  },
  "varInspector": {
   "cols": {
    "lenName": 16,
    "lenType": 16,
    "lenVar": 40
   },
   "kernels_config": {
    "python": {
     "delete_cmd_postfix": "",
     "delete_cmd_prefix": "del ",
     "library": "var_list.py",
     "varRefreshCmd": "print(var_dic_list())"
    },
    "r": {
     "delete_cmd_postfix": ") ",
     "delete_cmd_prefix": "rm(",
     "library": "var_list.r",
     "varRefreshCmd": "cat(var_dic_list()) "
    }
   },
   "types_to_exclude": [
    "module",
    "function",
    "builtin_function_or_method",
    "instance",
    "_Feature"
   ],
   "window_display": false
  }
 },
 "nbformat": 4,
 "nbformat_minor": 5
}
